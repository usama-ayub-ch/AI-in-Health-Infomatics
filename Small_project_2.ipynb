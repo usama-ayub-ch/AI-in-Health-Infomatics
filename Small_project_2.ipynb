{
 "cells": [
  {
   "cell_type": "markdown",
   "metadata": {},
   "source": [
    "# Small Project 2: ML Classifiers \n",
    "## "
   ]
  },
  {
   "cell_type": "code",
   "execution_count": 12,
   "metadata": {},
   "outputs": [
    {
     "name": "stdout",
     "output_type": "stream",
     "text": [
      "Accuracy for Logistic Classifier: 0.9912280701754386\n",
      "Cross-Validation Accuracy Scores: [0.97802198 0.97802198 0.95604396 1.         0.93406593]\n",
      "Mean Accuracy: 0.9692307692307691\n"
     ]
    }
   ],
   "source": [
    "from sklearn.model_selection import cross_val_score, train_test_split, GridSearchCV\n",
    "from sklearn import metrics\n",
    "from sklearn.datasets import load_breast_cancer\n",
    "from sklearn.linear_model import LogisticRegression\n",
    "from sklearn.preprocessing import StandardScaler\n",
    "import pandas as pd\n",
    "\n",
    "\n",
    "cancer = load_breast_cancer()\n",
    "\n",
    "scaler = StandardScaler() \n",
    "x_std = scaler.fit_transform(cancer.data)\n",
    "\n",
    "\n",
    "X_train, X_test, y_train, y_test = train_test_split(x_std, cancer.target, test_size=0.2, random_state=109)\n",
    "\n",
    "# Logistic Regression Classifier\n",
    "log_clf = LogisticRegression(max_iter=10000)\n",
    "log_clf_fit = log_clf.fit(X_train,y_train)\n",
    "y_pred = log_clf.predict(X_test)\n",
    "\n",
    "print(\"Accuracy for Logistic Classifier:\",metrics.accuracy_score(y_test, y_pred))\n",
    "\n",
    "\n",
    "# Perform k-fold cross-validation\n",
    "k = 5\n",
    "cv_scores = cross_val_score(log_clf, X_train, y_train, cv=k, scoring='accuracy')\n",
    "\n",
    "# Print the cross-validation accuracy scores\n",
    "print(\"Cross-Validation Accuracy Scores:\", cv_scores)\n",
    "\n",
    "# Calculate and print the mean accuracy\n",
    "mean_accuracy = cv_scores.mean()\n",
    "print(\"Mean Accuracy:\", mean_accuracy)\n"
   ]
  },
  {
   "cell_type": "code",
   "execution_count": 8,
   "metadata": {},
   "outputs": [
    {
     "name": "stdout",
     "output_type": "stream",
     "text": [
      "Precision: 0.9866666666666667\n",
      "Recall: 1.0\n"
     ]
    }
   ],
   "source": [
    "# Model Precision\n",
    "print(\"Precision:\",metrics.precision_score(y_test, y_pred))\n",
    "\n",
    "# Model Recall\n",
    "print(\"Recall:\",metrics.recall_score(y_test, y_pred))"
   ]
  },
  {
   "cell_type": "code",
   "execution_count": 9,
   "metadata": {},
   "outputs": [
    {
     "name": "stdout",
     "output_type": "stream",
     "text": [
      "Best Parameters: {'C': 1, 'penalty': 'l2', 'solver': 'liblinear'}\n",
      "Accuracy for Logistic Regression with GridSearchCV: 0.9912280701754386\n"
     ]
    }
   ],
   "source": [
    "# Define the parameter grid\n",
    "param_grid = {\n",
    "    'C': [0.1, 1, 10, 100],\n",
    "    'penalty': ['l1', 'l2'],  \n",
    "    'solver': ['liblinear', 'saga']}\n",
    "\n",
    "# Perform GridSearchCV\n",
    "grid_search = GridSearchCV(estimator=log_clf, param_grid=param_grid, cv=k, scoring='accuracy')\n",
    "grid_search.fit(X_train, y_train)\n",
    "\n",
    "# Print the best parameters found\n",
    "print(\"Best Parameters:\", grid_search.best_params_)\n",
    "\n",
    "# Train the Logistic Classifier with the best parameters\n",
    "best_clf = grid_search.best_estimator_\n",
    "best_clf.fit(X_train, y_train)\n",
    "\n",
    "# Predict the response for test dataset\n",
    "y_pred = best_clf.predict(X_test)\n",
    "\n",
    "# Print accuracy for the best model\n",
    "print(\"Accuracy for Logistic Regression with GridSearchCV:\", metrics.accuracy_score(y_test, y_pred))"
   ]
  },
  {
   "cell_type": "code",
   "execution_count": 16,
   "metadata": {},
   "outputs": [
    {
     "name": "stdout",
     "output_type": "stream",
     "text": [
      "[[39  1]\n",
      " [ 0 74]]\n"
     ]
    }
   ],
   "source": [
    "from sklearn.metrics import confusion_matrix\n",
    "print(confusion_matrix(y_test,y_pred))"
   ]
  }
 ],
 "metadata": {
  "kernelspec": {
   "display_name": "base",
   "language": "python",
   "name": "python3"
  },
  "language_info": {
   "codemirror_mode": {
    "name": "ipython",
    "version": 3
   },
   "file_extension": ".py",
   "mimetype": "text/x-python",
   "name": "python",
   "nbconvert_exporter": "python",
   "pygments_lexer": "ipython3",
   "version": "3.9.18"
  }
 },
 "nbformat": 4,
 "nbformat_minor": 2
}
